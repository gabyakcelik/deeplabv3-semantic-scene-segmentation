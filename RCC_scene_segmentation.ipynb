{
 "cells": [
  {
   "cell_type": "code",
   "execution_count": 1,
   "metadata": {},
   "outputs": [
    {
     "name": "stdout",
     "output_type": "stream",
     "text": [
      "True\n",
      "True\n"
     ]
    }
   ],
   "source": [
    "# check the pytorch installation\n",
    "import torch\n",
    "print(torch.cuda.is_available())       # Should be True\n",
    "print(torch.backends.cudnn.enabled)    # Should be True"
   ]
  },
  {
   "cell_type": "code",
   "execution_count": 2,
   "metadata": {
    "colab": {},
    "colab_type": "code",
    "id": "LKclAdidKjyQ"
   },
   "outputs": [],
   "source": [
    "import torch.utils.data\n",
    "import torch.nn as nn\n",
    "from torch.autograd import Variable\n",
    "import torch.optim as optim\n",
    "import torch.nn.functional as F\n",
    "import os\n",
    "import csv\n",
    "import numpy as np\n",
    "import pickle\n",
    "import matplotlib\n",
    "matplotlib.use(\"Agg\")\n",
    "import matplotlib.pyplot as plt\n",
    "import cv2"
   ]
  },
  {
   "cell_type": "code",
   "execution_count": 3,
   "metadata": {},
   "outputs": [],
   "source": [
    "# camera-ready\n",
    "import sys\n",
    "\n",
    "sys.path.append(\"deeplabv3\")\n",
    "sys.path.append(\"deeplabv3/model\")\n",
    "from deeplabv3 import DeepLabV3\n",
    "\n",
    "sys.path.append(\"deeplabv3/utils\")\n",
    "from utils import label_img_to_color\n"
   ]
  },
  {
   "cell_type": "code",
   "execution_count": 4,
   "metadata": {},
   "outputs": [],
   "source": [
    "work_dir = '/home/kywch/deeplabv3/'\n",
    "lib_dir = work_dir + 'deeplabv3/'\n",
    "\n",
    "# Specify your output directory\n",
    "output_dir=work_dir+\"output/\""
   ]
  },
  {
   "cell_type": "code",
   "execution_count": 5,
   "metadata": {
    "colab": {
     "base_uri": "https://localhost:8080/",
     "height": 34
    },
    "colab_type": "code",
    "id": "NmC-ZBGAK388",
    "outputId": "668d6219-5eb4-46e0-8d65-a110771eb07e"
   },
   "outputs": [
    {
     "name": "stdout",
     "output_type": "stream",
     "text": [
      "pretrained resnet, 18\n"
     ]
    }
   ],
   "source": [
    "network = DeepLabV3(\"eval_val\", project_dir=\"deeplabv3\", \n",
    "                    pretrained_file=lib_dir+\"resnet18-5c106cde.pth\").cuda()"
   ]
  },
  {
   "cell_type": "code",
   "execution_count": 6,
   "metadata": {
    "colab": {
     "base_uri": "https://localhost:8080/",
     "height": 34
    },
    "colab_type": "code",
    "id": "rmbM1O8WK7Tq",
    "outputId": "f8c33d02-5137-4182-a41a-cec50de6a3ae"
   },
   "outputs": [
    {
     "data": {
      "text/plain": [
       "<All keys matched successfully>"
      ]
     },
     "execution_count": 6,
     "metadata": {},
     "output_type": "execute_result"
    }
   ],
   "source": [
    "network.load_state_dict(torch.load(lib_dir+\"model_13_2_2_2_epoch_580.pth\"))"
   ]
  },
  {
   "cell_type": "code",
   "execution_count": 7,
   "metadata": {},
   "outputs": [
    {
     "name": "stdout",
     "output_type": "stream",
     "text": [
      "['street2.jpg', 'street1.jpg']\n"
     ]
    }
   ],
   "source": [
    "xxx = os.listdir('input')\n",
    "print(xxx)"
   ]
  },
  {
   "cell_type": "code",
   "execution_count": 8,
   "metadata": {
    "colab": {},
    "colab_type": "code",
    "id": "B9f4xZx6L7cG"
   },
   "outputs": [],
   "source": [
    "class DatasetVal(torch.utils.data.Dataset):\n",
    "    def __init__(self, input_path, output_path):\n",
    "        self.img_dir = input_path\n",
    "        self.img_h = 1024\n",
    "        self.img_w = 2048\n",
    "        self.output_dir = output_path\n",
    "        if not os.path.exists(output_path):\n",
    "            os.makedirs(output_path)\n",
    "        \n",
    "        self.examples = []\n",
    "        file_names = os.listdir(self.img_dir)\n",
    "        for file_name in file_names:\n",
    "            if file_name.lower().endswith(('.jpg', '.png', '.jpeg')):\n",
    "                img_id = file_name.split('.')[0]\n",
    "                img_path = self.img_dir + '/' + file_name\n",
    "                example = {}\n",
    "                example[\"img_path\"] = img_path\n",
    "                example[\"img_id\"] = img_id\n",
    "                self.examples.append(example)\n",
    "        #print(self.examples)\n",
    "\n",
    "        self.num_examples = len(self.examples)\n",
    "        print(str(self.num_examples) + \" images were identified from the input directory.\")\n",
    "        \n",
    "    def __getitem__(self, index):\n",
    "        example = self.examples[index]\n",
    "\n",
    "        img_id = example[\"img_id\"]\n",
    "        img_path = example[\"img_path\"]\n",
    "        img = cv2.imread(img_path, -1) # (shape: (1024, 2048, 3))\n",
    "\n",
    "        # normalize the img (with the mean and std for the pretrained ResNet):\n",
    "        img = img/255.0\n",
    "        img = img - np.array([0.485, 0.456, 0.406])\n",
    "        img = img/np.array([0.229, 0.224, 0.225]) # (shape: (512, 1024, 3))\n",
    "        img = np.transpose(img, (2, 0, 1)) # (shape: (3, 512, 1024))\n",
    "        img = img.astype(np.float32)\n",
    "\n",
    "        # convert numpy -> torch:\n",
    "        img = torch.from_numpy(img) # (shape: (3, 512, 1024))\n",
    "        #label_img = torch.from_numpy(label_img) # (shape: (512, 1024))\n",
    "        print(img_id)\n",
    "        return (img, img_id)\n",
    "\n",
    "    def __len__(self):\n",
    "        return self.num_examples\n"
   ]
  },
  {
   "cell_type": "code",
   "execution_count": 9,
   "metadata": {
    "colab": {},
    "colab_type": "code",
    "id": "oFNeJyMDo3O7"
   },
   "outputs": [
    {
     "name": "stdout",
     "output_type": "stream",
     "text": [
      "2 images were identified from the input directory.\n"
     ]
    }
   ],
   "source": [
    "\n",
    "val_dataset = DatasetVal(input_path=work_dir+\"input\", output_path=output_dir)"
   ]
  },
  {
   "cell_type": "code",
   "execution_count": 10,
   "metadata": {},
   "outputs": [
    {
     "data": {
      "text/plain": [
       "[{'img_path': '/home/kywch/deeplabv3/input/street2.jpg', 'img_id': 'street2'},\n",
       " {'img_path': '/home/kywch/deeplabv3/input/street1.jpg', 'img_id': 'street1'}]"
      ]
     },
     "execution_count": 10,
     "metadata": {},
     "output_type": "execute_result"
    }
   ],
   "source": [
    "val_dataset.examples"
   ]
  },
  {
   "cell_type": "code",
   "execution_count": 11,
   "metadata": {
    "colab": {},
    "colab_type": "code",
    "id": "KTeLB2Z8pCBw"
   },
   "outputs": [],
   "source": [
    "val_loader = torch.utils.data.DataLoader(dataset=val_dataset,\n",
    "                                         batch_size=1, shuffle=False,\n",
    "                                         num_workers=1)"
   ]
  },
  {
   "cell_type": "code",
   "execution_count": 12,
   "metadata": {
    "colab": {
     "base_uri": "https://localhost:8080/",
     "height": 1000
    },
    "colab_type": "code",
    "id": "dp03CO2hNKP4",
    "outputId": "234aba60-04e8-4f9a-c5dc-9d4868ccc331"
   },
   "outputs": [
    {
     "data": {
      "text/plain": [
       "DeepLabV3(\n",
       "  (resnet): ResNet_BasicBlock_OS8(\n",
       "    (resnet): Sequential(\n",
       "      (0): Conv2d(3, 64, kernel_size=(7, 7), stride=(2, 2), padding=(3, 3), bias=False)\n",
       "      (1): BatchNorm2d(64, eps=1e-05, momentum=0.1, affine=True, track_running_stats=True)\n",
       "      (2): ReLU(inplace=True)\n",
       "      (3): MaxPool2d(kernel_size=3, stride=2, padding=1, dilation=1, ceil_mode=False)\n",
       "      (4): Sequential(\n",
       "        (0): BasicBlock(\n",
       "          (conv1): Conv2d(64, 64, kernel_size=(3, 3), stride=(1, 1), padding=(1, 1), bias=False)\n",
       "          (bn1): BatchNorm2d(64, eps=1e-05, momentum=0.1, affine=True, track_running_stats=True)\n",
       "          (relu): ReLU(inplace=True)\n",
       "          (conv2): Conv2d(64, 64, kernel_size=(3, 3), stride=(1, 1), padding=(1, 1), bias=False)\n",
       "          (bn2): BatchNorm2d(64, eps=1e-05, momentum=0.1, affine=True, track_running_stats=True)\n",
       "        )\n",
       "        (1): BasicBlock(\n",
       "          (conv1): Conv2d(64, 64, kernel_size=(3, 3), stride=(1, 1), padding=(1, 1), bias=False)\n",
       "          (bn1): BatchNorm2d(64, eps=1e-05, momentum=0.1, affine=True, track_running_stats=True)\n",
       "          (relu): ReLU(inplace=True)\n",
       "          (conv2): Conv2d(64, 64, kernel_size=(3, 3), stride=(1, 1), padding=(1, 1), bias=False)\n",
       "          (bn2): BatchNorm2d(64, eps=1e-05, momentum=0.1, affine=True, track_running_stats=True)\n",
       "        )\n",
       "      )\n",
       "      (5): Sequential(\n",
       "        (0): BasicBlock(\n",
       "          (conv1): Conv2d(64, 128, kernel_size=(3, 3), stride=(2, 2), padding=(1, 1), bias=False)\n",
       "          (bn1): BatchNorm2d(128, eps=1e-05, momentum=0.1, affine=True, track_running_stats=True)\n",
       "          (relu): ReLU(inplace=True)\n",
       "          (conv2): Conv2d(128, 128, kernel_size=(3, 3), stride=(1, 1), padding=(1, 1), bias=False)\n",
       "          (bn2): BatchNorm2d(128, eps=1e-05, momentum=0.1, affine=True, track_running_stats=True)\n",
       "          (downsample): Sequential(\n",
       "            (0): Conv2d(64, 128, kernel_size=(1, 1), stride=(2, 2), bias=False)\n",
       "            (1): BatchNorm2d(128, eps=1e-05, momentum=0.1, affine=True, track_running_stats=True)\n",
       "          )\n",
       "        )\n",
       "        (1): BasicBlock(\n",
       "          (conv1): Conv2d(128, 128, kernel_size=(3, 3), stride=(1, 1), padding=(1, 1), bias=False)\n",
       "          (bn1): BatchNorm2d(128, eps=1e-05, momentum=0.1, affine=True, track_running_stats=True)\n",
       "          (relu): ReLU(inplace=True)\n",
       "          (conv2): Conv2d(128, 128, kernel_size=(3, 3), stride=(1, 1), padding=(1, 1), bias=False)\n",
       "          (bn2): BatchNorm2d(128, eps=1e-05, momentum=0.1, affine=True, track_running_stats=True)\n",
       "        )\n",
       "      )\n",
       "    )\n",
       "    (layer4): Sequential(\n",
       "      (0): BasicBlock(\n",
       "        (conv1): Conv2d(128, 256, kernel_size=(3, 3), stride=(1, 1), padding=(2, 2), dilation=(2, 2), bias=False)\n",
       "        (bn1): BatchNorm2d(256, eps=1e-05, momentum=0.1, affine=True, track_running_stats=True)\n",
       "        (conv2): Conv2d(256, 256, kernel_size=(3, 3), stride=(1, 1), padding=(2, 2), dilation=(2, 2), bias=False)\n",
       "        (bn2): BatchNorm2d(256, eps=1e-05, momentum=0.1, affine=True, track_running_stats=True)\n",
       "        (downsample): Sequential(\n",
       "          (0): Conv2d(128, 256, kernel_size=(1, 1), stride=(1, 1), bias=False)\n",
       "          (1): BatchNorm2d(256, eps=1e-05, momentum=0.1, affine=True, track_running_stats=True)\n",
       "        )\n",
       "      )\n",
       "      (1): BasicBlock(\n",
       "        (conv1): Conv2d(256, 256, kernel_size=(3, 3), stride=(1, 1), padding=(2, 2), dilation=(2, 2), bias=False)\n",
       "        (bn1): BatchNorm2d(256, eps=1e-05, momentum=0.1, affine=True, track_running_stats=True)\n",
       "        (conv2): Conv2d(256, 256, kernel_size=(3, 3), stride=(1, 1), padding=(2, 2), dilation=(2, 2), bias=False)\n",
       "        (bn2): BatchNorm2d(256, eps=1e-05, momentum=0.1, affine=True, track_running_stats=True)\n",
       "        (downsample): Sequential()\n",
       "      )\n",
       "    )\n",
       "    (layer5): Sequential(\n",
       "      (0): BasicBlock(\n",
       "        (conv1): Conv2d(256, 512, kernel_size=(3, 3), stride=(1, 1), padding=(4, 4), dilation=(4, 4), bias=False)\n",
       "        (bn1): BatchNorm2d(512, eps=1e-05, momentum=0.1, affine=True, track_running_stats=True)\n",
       "        (conv2): Conv2d(512, 512, kernel_size=(3, 3), stride=(1, 1), padding=(4, 4), dilation=(4, 4), bias=False)\n",
       "        (bn2): BatchNorm2d(512, eps=1e-05, momentum=0.1, affine=True, track_running_stats=True)\n",
       "        (downsample): Sequential(\n",
       "          (0): Conv2d(256, 512, kernel_size=(1, 1), stride=(1, 1), bias=False)\n",
       "          (1): BatchNorm2d(512, eps=1e-05, momentum=0.1, affine=True, track_running_stats=True)\n",
       "        )\n",
       "      )\n",
       "      (1): BasicBlock(\n",
       "        (conv1): Conv2d(512, 512, kernel_size=(3, 3), stride=(1, 1), padding=(4, 4), dilation=(4, 4), bias=False)\n",
       "        (bn1): BatchNorm2d(512, eps=1e-05, momentum=0.1, affine=True, track_running_stats=True)\n",
       "        (conv2): Conv2d(512, 512, kernel_size=(3, 3), stride=(1, 1), padding=(4, 4), dilation=(4, 4), bias=False)\n",
       "        (bn2): BatchNorm2d(512, eps=1e-05, momentum=0.1, affine=True, track_running_stats=True)\n",
       "        (downsample): Sequential()\n",
       "      )\n",
       "    )\n",
       "  )\n",
       "  (aspp): ASPP(\n",
       "    (conv_1x1_1): Conv2d(512, 256, kernel_size=(1, 1), stride=(1, 1))\n",
       "    (bn_conv_1x1_1): BatchNorm2d(256, eps=1e-05, momentum=0.1, affine=True, track_running_stats=True)\n",
       "    (conv_3x3_1): Conv2d(512, 256, kernel_size=(3, 3), stride=(1, 1), padding=(6, 6), dilation=(6, 6))\n",
       "    (bn_conv_3x3_1): BatchNorm2d(256, eps=1e-05, momentum=0.1, affine=True, track_running_stats=True)\n",
       "    (conv_3x3_2): Conv2d(512, 256, kernel_size=(3, 3), stride=(1, 1), padding=(12, 12), dilation=(12, 12))\n",
       "    (bn_conv_3x3_2): BatchNorm2d(256, eps=1e-05, momentum=0.1, affine=True, track_running_stats=True)\n",
       "    (conv_3x3_3): Conv2d(512, 256, kernel_size=(3, 3), stride=(1, 1), padding=(18, 18), dilation=(18, 18))\n",
       "    (bn_conv_3x3_3): BatchNorm2d(256, eps=1e-05, momentum=0.1, affine=True, track_running_stats=True)\n",
       "    (avg_pool): AdaptiveAvgPool2d(output_size=1)\n",
       "    (conv_1x1_2): Conv2d(512, 256, kernel_size=(1, 1), stride=(1, 1))\n",
       "    (bn_conv_1x1_2): BatchNorm2d(256, eps=1e-05, momentum=0.1, affine=True, track_running_stats=True)\n",
       "    (conv_1x1_3): Conv2d(1280, 256, kernel_size=(1, 1), stride=(1, 1))\n",
       "    (bn_conv_1x1_3): BatchNorm2d(256, eps=1e-05, momentum=0.1, affine=True, track_running_stats=True)\n",
       "    (conv_1x1_4): Conv2d(256, 20, kernel_size=(1, 1), stride=(1, 1))\n",
       "  )\n",
       ")"
      ]
     },
     "execution_count": 12,
     "metadata": {},
     "output_type": "execute_result"
    }
   ],
   "source": [
    "network.eval()"
   ]
  },
  {
   "cell_type": "code",
   "execution_count": 13,
   "metadata": {
    "colab": {
     "base_uri": "https://localhost:8080/",
     "height": 371
    },
    "colab_type": "code",
    "id": "MftPJ76RpC4H",
    "outputId": "552b38ab-5ce1-4f0e-978d-ed97f637f1dd"
   },
   "outputs": [
    {
     "name": "stdout",
     "output_type": "stream",
     "text": [
      "street2\n",
      "street1\n"
     ]
    },
    {
     "name": "stderr",
     "output_type": "stream",
     "text": [
      "/home/kywch/.conda/envs/rcctorch-1.2/lib/python3.7/site-packages/torch/nn/functional.py:2390: UserWarning: nn.functional.upsample is deprecated. Use nn.functional.interpolate instead.\n",
      "  warnings.warn(\"nn.functional.upsample is deprecated. Use nn.functional.interpolate instead.\")\n",
      "/home/kywch/.conda/envs/rcctorch-1.2/lib/python3.7/site-packages/torch/nn/functional.py:2479: UserWarning: Default upsampling behavior when mode=bilinear is changed to align_corners=False since 0.4.0. Please specify align_corners=True if the old behavior is desired. See the documentation of nn.Upsample for details.\n",
      "  \"See the documentation of nn.Upsample for details.\".format(mode))\n"
     ]
    }
   ],
   "source": [
    "count = 0\n",
    "\n",
    "#produce labeled image\n",
    "for step, (imgs, img_ids) in enumerate(val_loader):\n",
    "    #print(img_ids)\n",
    "    with torch.no_grad(): # (corresponds to setting volatile=True in all variables, this is done during inference to reduce memory consumption)\n",
    "        imgs = Variable(imgs).cuda() # (shape: (batch_size, 3, img_h, img_w))\n",
    "        outputs = network(imgs) # (shape: (batch_size, num_classes, img_h, img_w))\n",
    "  \n",
    "        ########################################################################\n",
    "        # save data for visualization:\n",
    "        ########################################################################\n",
    "        \n",
    "        outputs = outputs.data.cpu().numpy() # (shape: (batch_size, num_classes, img_h, img_w))\n",
    "        pred_label_imgs = np.argmax(outputs, axis=1) # (shape: (batch_size, img_h, img_w))\n",
    "        pred_label_imgs = pred_label_imgs.astype(np.uint8)\n",
    "\n",
    "        for i in range(pred_label_imgs.shape[0]):\n",
    "            if i == 0:\n",
    "                pred_label_img = pred_label_imgs[i] # (shape: (img_h, img_w))\n",
    "                img_id = img_ids[i]\n",
    "                img = imgs[i] # (shape: (3, img_h, img_w))\n",
    "\n",
    "                img = img.data.cpu().numpy()\n",
    "                img = np.transpose(img, (1, 2, 0)) # (shape: (img_h, img_w, 3))\n",
    "                img = img*np.array([0.229, 0.224, 0.225])\n",
    "                img = img + np.array([0.485, 0.456, 0.406])\n",
    "                img = img*255.0\n",
    "                img = img.astype(np.uint8)\n",
    "\n",
    "                pred_label_img_color = label_img_to_color(pred_label_img)\n",
    "                overlayed_img = 0.35*img + 0.65*pred_label_img_color\n",
    "                overlayed_img = overlayed_img.astype(np.uint8)\n",
    "                #producing original predicted images\n",
    "                cv2.imwrite(val_dataset.output_dir + \"/\" + img_id + \"_pred_label.png\", pred_label_img )\n",
    "                \n",
    "                # produce debugging info for the first 10 images\n",
    "                if count < 10:\n",
    "                    #producing colored predicted images\n",
    "                    cv2.imwrite(val_dataset.output_dir + \"/\" + img_id + \"_pred_label_colorimg.png\", pred_label_img_color )\n",
    "                    #producing overlayed images\n",
    "                    cv2.imwrite(val_dataset.output_dir + \"/\" + img_id + \"_overlayed.png\", overlayed_img)\n",
    "                \n",
    "\n",
    "        ########################################################################\n",
    "        # quick counting\n",
    "        ########################################################################\n",
    "        count += 1\n",
    "                "
   ]
  },
  {
   "cell_type": "code",
   "execution_count": 14,
   "metadata": {
    "colab": {},
    "colab_type": "code",
    "id": "HC9-m9Bz3AJN"
   },
   "outputs": [],
   "source": [
    "# generate the summary csv file from the labeled files\n",
    "import glob\n",
    "output_files = glob.glob(val_dataset.output_dir + \"/*pred_label.png\")"
   ]
  },
  {
   "cell_type": "code",
   "execution_count": 15,
   "metadata": {},
   "outputs": [
    {
     "name": "stdout",
     "output_type": "stream",
     "text": [
      "/home/kywch/deeplabv3/output/\n",
      "['/home/kywch/deeplabv3/output/street2_pred_label.png', '/home/kywch/deeplabv3/output/street1_pred_label.png']\n"
     ]
    }
   ],
   "source": [
    "print(val_dataset.output_dir)\n",
    "print(output_files)"
   ]
  },
  {
   "cell_type": "code",
   "execution_count": 16,
   "metadata": {},
   "outputs": [],
   "source": [
    "# deeplabv3 - cityscape labels\n",
    "\n",
    "class_names = ['pcnt_road', 'pcnt_sidewalk', 'pcnt_building', 'pcnt_wall', 'pcnt_fence',\n",
    "    'pcnt_pole', 'pcnt_traffic_light', 'pcnt_traffic_sign', 'pcnt_vegetation', 'pcnt_terrain',\n",
    "    'pcnt_sky', 'pcnt_person', 'pcnt_rider', 'pcnt_car', 'pcnt_truck',\n",
    "    'pcnt_bus', 'pcnt_train', 'pcnt_motorcycle', 'pcnt_bicycle', 'pcnt_unlabeled']\n",
    "num_class = len(class_names)\n"
   ]
  },
  {
   "cell_type": "code",
   "execution_count": 18,
   "metadata": {},
   "outputs": [
    {
     "name": "stdout",
     "output_type": "stream",
     "text": [
      "street2\n",
      "[0.14567489801864802, 0.06896124708624708, 0.434604458041958, 0.0, 0.01633158508158508, 0.037807765151515155, 0.001757357226107226, 0.011531177156177156, 0.2095807837995338, 0.0036276223776223774, 0.02861487470862471, 0.014213650932400932, 0.000628277972027972, 0.001065340909090909, 0.00044434731934731936, 0.0, 0.0, 0.00030048076923076925, 0.002576850233100233, 0.022279283216783217]\n"
     ]
    }
   ],
   "source": [
    "# quick check\n",
    "\n",
    "file = output_files[0]\n",
    "\n",
    "print(os.path.basename(file).split('_pred_label.png')[0])\n",
    "\n",
    "pred_label_img = cv2.imread(file, -1)\n",
    "# count how many pixels in pred_label_img which are of object class trainId:\n",
    "class_to_count = np.zeros(num_class)\n",
    "for cate_id in range(num_class):\n",
    "    class_to_count[cate_id] = np.sum(np.equal(pred_label_img, cate_id))/pred_label_img.size\n",
    "\n",
    "print(class_to_count.tolist())"
   ]
  },
  {
   "cell_type": "code",
   "execution_count": 20,
   "metadata": {
    "colab": {
     "base_uri": "https://localhost:8080/",
     "height": 252
    },
    "colab_type": "code",
    "id": "WUoEhCbkDaeV",
    "outputId": "0658f45b-dc3d-4f7c-da82-0672efcba74f"
   },
   "outputs": [],
   "source": [
    "#save category ratios to csv file\n",
    "with open(val_dataset.output_dir + '/00_object_ratios.csv', 'w') as output:\n",
    "    writer = csv.writer(output)\n",
    "    writer.writerow(['image_name'] + class_names)\n",
    "    \n",
    "    for file in output_files:\n",
    "        img_name = os.path.basename(file).split('_pred_label.png')[0]\n",
    "        pred_label_img = cv2.imread(file, -1)\n",
    "        \n",
    "        # count how many pixels in pred_label_img which are of object class trainId:\n",
    "        class_to_count = np.zeros(num_class)\n",
    "        for cate_id in range(num_class):\n",
    "            class_to_count[cate_id] = np.sum(np.equal(pred_label_img, cate_id))/pred_label_img.size\n",
    "        \n",
    "        # write to the csv file\n",
    "        writer.writerow([img_name] + class_to_count.tolist())\n"
   ]
  },
  {
   "cell_type": "code",
   "execution_count": null,
   "metadata": {},
   "outputs": [],
   "source": []
  }
 ],
 "metadata": {
  "accelerator": "GPU",
  "colab": {
   "name": "evaluation.ipynb",
   "provenance": []
  },
  "kernelspec": {
   "display_name": "Python 3",
   "language": "python",
   "name": "python3"
  },
  "language_info": {
   "codemirror_mode": {
    "name": "ipython",
    "version": 3
   },
   "file_extension": ".py",
   "mimetype": "text/x-python",
   "name": "python",
   "nbconvert_exporter": "python",
   "pygments_lexer": "ipython3",
   "version": "3.7.3"
  }
 },
 "nbformat": 4,
 "nbformat_minor": 1
}
