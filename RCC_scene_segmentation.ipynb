{
 "cells": [
  {
   "cell_type": "code",
   "execution_count": 40,
   "metadata": {},
   "outputs": [
    {
     "name": "stdout",
     "output_type": "stream",
     "text": [
      "True\n",
      "True\n"
     ]
    }
   ],
   "source": [
    "# check the pytorch installation\n",
    "import torch\n",
    "print(torch.cuda.is_available())       # Should be True\n",
    "print(torch.backends.cudnn.enabled)    # Should be True"
   ]
  },
  {
   "cell_type": "code",
   "execution_count": 41,
   "metadata": {
    "colab": {},
    "colab_type": "code",
    "id": "LKclAdidKjyQ"
   },
   "outputs": [],
   "source": [
    "import torch.utils.data\n",
    "import torch.nn as nn\n",
    "from torch.autograd import Variable\n",
    "import torch.optim as optim\n",
    "import torch.nn.functional as F\n",
    "import os\n",
    "import csv\n",
    "import numpy as np\n",
    "import pickle\n",
    "import matplotlib\n",
    "matplotlib.use(\"Agg\")\n",
    "import matplotlib.pyplot as plt\n",
    "import cv2"
   ]
  },
  {
   "cell_type": "code",
   "execution_count": 42,
   "metadata": {},
   "outputs": [],
   "source": [
    "# camera-ready\n",
    "import sys\n",
    "\n",
    "sys.path.append(\"deeplabv3\")\n",
    "sys.path.append(\"deeplabv3/model\")\n",
    "from deeplabv3 import DeepLabV3\n",
    "\n",
    "sys.path.append(\"deeplabv3/utils\")\n",
    "from utils import label_img_to_color\n"
   ]
  },
  {
   "cell_type": "code",
   "execution_count": 43,
   "metadata": {},
   "outputs": [],
   "source": [
    "work_dir = '/home/kywch/deeplabv3/'\n",
    "lib_dir = work_dir + 'deeplabv3/'\n",
    "\n",
    "# Specify your output directory\n",
    "input_dir = work_dir + \"input/\"\n",
    "output_dir = work_dir + \"output/\""
   ]
  },
  {
   "cell_type": "code",
   "execution_count": 44,
   "metadata": {
    "colab": {
     "base_uri": "https://localhost:8080/",
     "height": 34
    },
    "colab_type": "code",
    "id": "NmC-ZBGAK388",
    "outputId": "668d6219-5eb4-46e0-8d65-a110771eb07e"
   },
   "outputs": [
    {
     "name": "stdout",
     "output_type": "stream",
     "text": [
      "pretrained resnet, 18\n"
     ]
    }
   ],
   "source": [
    "network = DeepLabV3(\"eval_val\", project_dir=\"deeplabv3\", \n",
    "                    pretrained_file=lib_dir+\"resnet18-5c106cde.pth\").cuda()"
   ]
  },
  {
   "cell_type": "code",
   "execution_count": 45,
   "metadata": {
    "colab": {
     "base_uri": "https://localhost:8080/",
     "height": 34
    },
    "colab_type": "code",
    "id": "rmbM1O8WK7Tq",
    "outputId": "f8c33d02-5137-4182-a41a-cec50de6a3ae"
   },
   "outputs": [
    {
     "data": {
      "text/plain": [
       "<All keys matched successfully>"
      ]
     },
     "execution_count": 45,
     "metadata": {},
     "output_type": "execute_result"
    }
   ],
   "source": [
    "network.load_state_dict(torch.load(lib_dir+\"model_13_2_2_2_epoch_580.pth\"))"
   ]
  },
  {
   "cell_type": "code",
   "execution_count": 46,
   "metadata": {
    "colab": {},
    "colab_type": "code",
    "id": "B9f4xZx6L7cG"
   },
   "outputs": [],
   "source": [
    "class DatasetVal(torch.utils.data.Dataset):\n",
    "    def __init__(self, input_path, output_path):\n",
    "        self.img_dir = input_path\n",
    "        self.img_h = 1024\n",
    "        self.img_w = 2048\n",
    "        self.output_dir = output_path\n",
    "        if not os.path.exists(output_path):\n",
    "            os.makedirs(output_path)\n",
    "        self.debug_dir = output_path + '/debug/'\n",
    "        if not os.path.exists(self.debug_dir):\n",
    "            os.makedirs(self.debug_dir)\n",
    "        \n",
    "        self.examples = []\n",
    "        file_names = os.listdir(self.img_dir)\n",
    "        for file_name in file_names:\n",
    "            if file_name.lower().endswith(('.jpg', '.png', '.jpeg')):\n",
    "                img_id = file_name.split('.')[0]\n",
    "                img_path = self.img_dir + '/' + file_name\n",
    "                example = {}\n",
    "                example[\"img_path\"] = img_path\n",
    "                example[\"img_id\"] = img_id\n",
    "                self.examples.append(example)\n",
    "        #print(self.examples)\n",
    "\n",
    "        self.num_examples = len(self.examples)\n",
    "        print(str(self.num_examples) + \" images were identified from the input directory.\")\n",
    "        \n",
    "    def __getitem__(self, index):\n",
    "        example = self.examples[index]\n",
    "\n",
    "        img_id = example[\"img_id\"]\n",
    "        img_path = example[\"img_path\"]\n",
    "        img = cv2.imread(img_path, -1) # (shape: (1024, 2048, 3))\n",
    "\n",
    "        # normalize the img (with the mean and std for the pretrained ResNet):\n",
    "        img = img/255.0\n",
    "        img = img - np.array([0.485, 0.456, 0.406])\n",
    "        img = img/np.array([0.229, 0.224, 0.225]) # (shape: (512, 1024, 3))\n",
    "        img = np.transpose(img, (2, 0, 1)) # (shape: (3, 512, 1024))\n",
    "        img = img.astype(np.float32)\n",
    "\n",
    "        # convert numpy -> torch:\n",
    "        img = torch.from_numpy(img) # (shape: (3, 512, 1024))\n",
    "        #label_img = torch.from_numpy(label_img) # (shape: (512, 1024))\n",
    "        print(img_id)\n",
    "        return (img, img_id)\n",
    "\n",
    "    def __len__(self):\n",
    "        return self.num_examples\n"
   ]
  },
  {
   "cell_type": "code",
   "execution_count": 47,
   "metadata": {
    "colab": {},
    "colab_type": "code",
    "id": "oFNeJyMDo3O7"
   },
   "outputs": [
    {
     "name": "stdout",
     "output_type": "stream",
     "text": [
      "78 images were identified from the input directory.\n"
     ]
    }
   ],
   "source": [
    "val_dataset = DatasetVal(input_path=input_dir, output_path=output_dir)"
   ]
  },
  {
   "cell_type": "code",
   "execution_count": 48,
   "metadata": {},
   "outputs": [
    {
     "data": {
      "text/plain": [
       "[{'img_path': '/home/kywch/deeplabv3/input//p1r00056.jpg',\n",
       "  'img_id': 'p1r00056'},\n",
       " {'img_path': '/home/kywch/deeplabv3/input//p1r00058.jpg',\n",
       "  'img_id': 'p1r00058'},\n",
       " {'img_path': '/home/kywch/deeplabv3/input//p1r00050.jpg',\n",
       "  'img_id': 'p1r00050'},\n",
       " {'img_path': '/home/kywch/deeplabv3/input//p1r00029.jpg',\n",
       "  'img_id': 'p1r00029'},\n",
       " {'img_path': '/home/kywch/deeplabv3/input//street2.jpg', 'img_id': 'street2'},\n",
       " {'img_path': '/home/kywch/deeplabv3/input//p1r00046.jpg',\n",
       "  'img_id': 'p1r00046'},\n",
       " {'img_path': '/home/kywch/deeplabv3/input//p1r00018.jpg',\n",
       "  'img_id': 'p1r00018'},\n",
       " {'img_path': '/home/kywch/deeplabv3/input//p1r00065.jpg',\n",
       "  'img_id': 'p1r00065'},\n",
       " {'img_path': '/home/kywch/deeplabv3/input//p1r00060.jpg',\n",
       "  'img_id': 'p1r00060'},\n",
       " {'img_path': '/home/kywch/deeplabv3/input//p1r00017.jpg',\n",
       "  'img_id': 'p1r00017'},\n",
       " {'img_path': '/home/kywch/deeplabv3/input//p1r00068.jpg',\n",
       "  'img_id': 'p1r00068'},\n",
       " {'img_path': '/home/kywch/deeplabv3/input//p1r00052.jpg',\n",
       "  'img_id': 'p1r00052'},\n",
       " {'img_path': '/home/kywch/deeplabv3/input//street1.jpg', 'img_id': 'street1'},\n",
       " {'img_path': '/home/kywch/deeplabv3/input//p1r00034.jpg',\n",
       "  'img_id': 'p1r00034'},\n",
       " {'img_path': '/home/kywch/deeplabv3/input//p1r00028.jpg',\n",
       "  'img_id': 'p1r00028'},\n",
       " {'img_path': '/home/kywch/deeplabv3/input//p1r00074.jpg',\n",
       "  'img_id': 'p1r00074'},\n",
       " {'img_path': '/home/kywch/deeplabv3/input//p1r00039.jpg',\n",
       "  'img_id': 'p1r00039'},\n",
       " {'img_path': '/home/kywch/deeplabv3/input//p1r00067.jpg',\n",
       "  'img_id': 'p1r00067'},\n",
       " {'img_path': '/home/kywch/deeplabv3/input//p1r00009.jpg',\n",
       "  'img_id': 'p1r00009'},\n",
       " {'img_path': '/home/kywch/deeplabv3/input//p1r00066.jpg',\n",
       "  'img_id': 'p1r00066'},\n",
       " {'img_path': '/home/kywch/deeplabv3/input//p1r00040.jpg',\n",
       "  'img_id': 'p1r00040'},\n",
       " {'img_path': '/home/kywch/deeplabv3/input//p1r00016.jpg',\n",
       "  'img_id': 'p1r00016'},\n",
       " {'img_path': '/home/kywch/deeplabv3/input//p1r00006.jpg',\n",
       "  'img_id': 'p1r00006'},\n",
       " {'img_path': '/home/kywch/deeplabv3/input//p1r00049.jpg',\n",
       "  'img_id': 'p1r00049'},\n",
       " {'img_path': '/home/kywch/deeplabv3/input//p1r00015.jpg',\n",
       "  'img_id': 'p1r00015'},\n",
       " {'img_path': '/home/kywch/deeplabv3/input//p1r00011.jpg',\n",
       "  'img_id': 'p1r00011'},\n",
       " {'img_path': '/home/kywch/deeplabv3/input//p1r00027.jpg',\n",
       "  'img_id': 'p1r00027'},\n",
       " {'img_path': '/home/kywch/deeplabv3/input//p1r00019.jpg',\n",
       "  'img_id': 'p1r00019'},\n",
       " {'img_path': '/home/kywch/deeplabv3/input//p1r00073.jpg',\n",
       "  'img_id': 'p1r00073'},\n",
       " {'img_path': '/home/kywch/deeplabv3/input//p1r00055.jpg',\n",
       "  'img_id': 'p1r00055'},\n",
       " {'img_path': '/home/kywch/deeplabv3/input//p1r00038.jpg',\n",
       "  'img_id': 'p1r00038'},\n",
       " {'img_path': '/home/kywch/deeplabv3/input//p1r00004.jpg',\n",
       "  'img_id': 'p1r00004'},\n",
       " {'img_path': '/home/kywch/deeplabv3/input//p1r00021.jpg',\n",
       "  'img_id': 'p1r00021'},\n",
       " {'img_path': '/home/kywch/deeplabv3/input//p1r00033.jpg',\n",
       "  'img_id': 'p1r00033'},\n",
       " {'img_path': '/home/kywch/deeplabv3/input//p1r00022.jpg',\n",
       "  'img_id': 'p1r00022'},\n",
       " {'img_path': '/home/kywch/deeplabv3/input//p1r00037.jpg',\n",
       "  'img_id': 'p1r00037'},\n",
       " {'img_path': '/home/kywch/deeplabv3/input//p1r00003.jpg',\n",
       "  'img_id': 'p1r00003'},\n",
       " {'img_path': '/home/kywch/deeplabv3/input//p1r00005.jpg',\n",
       "  'img_id': 'p1r00005'},\n",
       " {'img_path': '/home/kywch/deeplabv3/input//p1r00025.jpg',\n",
       "  'img_id': 'p1r00025'},\n",
       " {'img_path': '/home/kywch/deeplabv3/input//p1r00044.jpg',\n",
       "  'img_id': 'p1r00044'},\n",
       " {'img_path': '/home/kywch/deeplabv3/input//p1r00010.jpg',\n",
       "  'img_id': 'p1r00010'},\n",
       " {'img_path': '/home/kywch/deeplabv3/input//p1r00062.jpg',\n",
       "  'img_id': 'p1r00062'},\n",
       " {'img_path': '/home/kywch/deeplabv3/input//p1r00043.jpg',\n",
       "  'img_id': 'p1r00043'},\n",
       " {'img_path': '/home/kywch/deeplabv3/input//p1r00048.jpg',\n",
       "  'img_id': 'p1r00048'},\n",
       " {'img_path': '/home/kywch/deeplabv3/input//p1r00057.jpg',\n",
       "  'img_id': 'p1r00057'},\n",
       " {'img_path': '/home/kywch/deeplabv3/input//p1r00013.jpg',\n",
       "  'img_id': 'p1r00013'},\n",
       " {'img_path': '/home/kywch/deeplabv3/input//p1r00054.jpg',\n",
       "  'img_id': 'p1r00054'},\n",
       " {'img_path': '/home/kywch/deeplabv3/input//p1r00026.jpg',\n",
       "  'img_id': 'p1r00026'},\n",
       " {'img_path': '/home/kywch/deeplabv3/input//p1r00031.jpg',\n",
       "  'img_id': 'p1r00031'},\n",
       " {'img_path': '/home/kywch/deeplabv3/input//p1r00035.jpg',\n",
       "  'img_id': 'p1r00035'},\n",
       " {'img_path': '/home/kywch/deeplabv3/input//p1r00008.jpg',\n",
       "  'img_id': 'p1r00008'},\n",
       " {'img_path': '/home/kywch/deeplabv3/input//p1r00020.jpg',\n",
       "  'img_id': 'p1r00020'},\n",
       " {'img_path': '/home/kywch/deeplabv3/input//p1r00042.jpg',\n",
       "  'img_id': 'p1r00042'},\n",
       " {'img_path': '/home/kywch/deeplabv3/input//p1r00032.jpg',\n",
       "  'img_id': 'p1r00032'},\n",
       " {'img_path': '/home/kywch/deeplabv3/input//p1r00041.jpg',\n",
       "  'img_id': 'p1r00041'},\n",
       " {'img_path': '/home/kywch/deeplabv3/input//p1r00076.jpg',\n",
       "  'img_id': 'p1r00076'},\n",
       " {'img_path': '/home/kywch/deeplabv3/input//p1r00059.jpg',\n",
       "  'img_id': 'p1r00059'},\n",
       " {'img_path': '/home/kywch/deeplabv3/input//p1r00014.jpg',\n",
       "  'img_id': 'p1r00014'},\n",
       " {'img_path': '/home/kywch/deeplabv3/input//p1r00036.jpg',\n",
       "  'img_id': 'p1r00036'},\n",
       " {'img_path': '/home/kywch/deeplabv3/input//p1r00053.jpg',\n",
       "  'img_id': 'p1r00053'},\n",
       " {'img_path': '/home/kywch/deeplabv3/input//p1r00023.jpg',\n",
       "  'img_id': 'p1r00023'},\n",
       " {'img_path': '/home/kywch/deeplabv3/input//p1r00030.jpg',\n",
       "  'img_id': 'p1r00030'},\n",
       " {'img_path': '/home/kywch/deeplabv3/input//p1r00064.jpg',\n",
       "  'img_id': 'p1r00064'},\n",
       " {'img_path': '/home/kywch/deeplabv3/input//p1r00047.jpg',\n",
       "  'img_id': 'p1r00047'},\n",
       " {'img_path': '/home/kywch/deeplabv3/input//p1r00069.jpg',\n",
       "  'img_id': 'p1r00069'},\n",
       " {'img_path': '/home/kywch/deeplabv3/input//p1r00024.jpg',\n",
       "  'img_id': 'p1r00024'},\n",
       " {'img_path': '/home/kywch/deeplabv3/input//p1r00071.jpg',\n",
       "  'img_id': 'p1r00071'},\n",
       " {'img_path': '/home/kywch/deeplabv3/input//p1r00072.jpg',\n",
       "  'img_id': 'p1r00072'},\n",
       " {'img_path': '/home/kywch/deeplabv3/input//p1r00063.jpg',\n",
       "  'img_id': 'p1r00063'},\n",
       " {'img_path': '/home/kywch/deeplabv3/input//p1r00075.jpg',\n",
       "  'img_id': 'p1r00075'},\n",
       " {'img_path': '/home/kywch/deeplabv3/input//p1r00051.jpg',\n",
       "  'img_id': 'p1r00051'},\n",
       " {'img_path': '/home/kywch/deeplabv3/input//p1r00007.jpg',\n",
       "  'img_id': 'p1r00007'},\n",
       " {'img_path': '/home/kywch/deeplabv3/input//p1r00012.jpg',\n",
       "  'img_id': 'p1r00012'},\n",
       " {'img_path': '/home/kywch/deeplabv3/input//p1r00070.jpg',\n",
       "  'img_id': 'p1r00070'},\n",
       " {'img_path': '/home/kywch/deeplabv3/input//p1r00002.jpg',\n",
       "  'img_id': 'p1r00002'},\n",
       " {'img_path': '/home/kywch/deeplabv3/input//p1r00061.jpg',\n",
       "  'img_id': 'p1r00061'},\n",
       " {'img_path': '/home/kywch/deeplabv3/input//p1r00045.jpg',\n",
       "  'img_id': 'p1r00045'},\n",
       " {'img_path': '/home/kywch/deeplabv3/input//p1r00001.jpg',\n",
       "  'img_id': 'p1r00001'}]"
      ]
     },
     "execution_count": 48,
     "metadata": {},
     "output_type": "execute_result"
    }
   ],
   "source": [
    "val_dataset.examples"
   ]
  },
  {
   "cell_type": "code",
   "execution_count": 49,
   "metadata": {
    "colab": {},
    "colab_type": "code",
    "id": "KTeLB2Z8pCBw"
   },
   "outputs": [],
   "source": [
    "val_loader = torch.utils.data.DataLoader(dataset=val_dataset,\n",
    "                                         batch_size=1, shuffle=False,\n",
    "                                         num_workers=1)"
   ]
  },
  {
   "cell_type": "code",
   "execution_count": 50,
   "metadata": {
    "colab": {
     "base_uri": "https://localhost:8080/",
     "height": 1000
    },
    "colab_type": "code",
    "id": "dp03CO2hNKP4",
    "outputId": "234aba60-04e8-4f9a-c5dc-9d4868ccc331"
   },
   "outputs": [
    {
     "data": {
      "text/plain": [
       "DeepLabV3(\n",
       "  (resnet): ResNet_BasicBlock_OS8(\n",
       "    (resnet): Sequential(\n",
       "      (0): Conv2d(3, 64, kernel_size=(7, 7), stride=(2, 2), padding=(3, 3), bias=False)\n",
       "      (1): BatchNorm2d(64, eps=1e-05, momentum=0.1, affine=True, track_running_stats=True)\n",
       "      (2): ReLU(inplace=True)\n",
       "      (3): MaxPool2d(kernel_size=3, stride=2, padding=1, dilation=1, ceil_mode=False)\n",
       "      (4): Sequential(\n",
       "        (0): BasicBlock(\n",
       "          (conv1): Conv2d(64, 64, kernel_size=(3, 3), stride=(1, 1), padding=(1, 1), bias=False)\n",
       "          (bn1): BatchNorm2d(64, eps=1e-05, momentum=0.1, affine=True, track_running_stats=True)\n",
       "          (relu): ReLU(inplace=True)\n",
       "          (conv2): Conv2d(64, 64, kernel_size=(3, 3), stride=(1, 1), padding=(1, 1), bias=False)\n",
       "          (bn2): BatchNorm2d(64, eps=1e-05, momentum=0.1, affine=True, track_running_stats=True)\n",
       "        )\n",
       "        (1): BasicBlock(\n",
       "          (conv1): Conv2d(64, 64, kernel_size=(3, 3), stride=(1, 1), padding=(1, 1), bias=False)\n",
       "          (bn1): BatchNorm2d(64, eps=1e-05, momentum=0.1, affine=True, track_running_stats=True)\n",
       "          (relu): ReLU(inplace=True)\n",
       "          (conv2): Conv2d(64, 64, kernel_size=(3, 3), stride=(1, 1), padding=(1, 1), bias=False)\n",
       "          (bn2): BatchNorm2d(64, eps=1e-05, momentum=0.1, affine=True, track_running_stats=True)\n",
       "        )\n",
       "      )\n",
       "      (5): Sequential(\n",
       "        (0): BasicBlock(\n",
       "          (conv1): Conv2d(64, 128, kernel_size=(3, 3), stride=(2, 2), padding=(1, 1), bias=False)\n",
       "          (bn1): BatchNorm2d(128, eps=1e-05, momentum=0.1, affine=True, track_running_stats=True)\n",
       "          (relu): ReLU(inplace=True)\n",
       "          (conv2): Conv2d(128, 128, kernel_size=(3, 3), stride=(1, 1), padding=(1, 1), bias=False)\n",
       "          (bn2): BatchNorm2d(128, eps=1e-05, momentum=0.1, affine=True, track_running_stats=True)\n",
       "          (downsample): Sequential(\n",
       "            (0): Conv2d(64, 128, kernel_size=(1, 1), stride=(2, 2), bias=False)\n",
       "            (1): BatchNorm2d(128, eps=1e-05, momentum=0.1, affine=True, track_running_stats=True)\n",
       "          )\n",
       "        )\n",
       "        (1): BasicBlock(\n",
       "          (conv1): Conv2d(128, 128, kernel_size=(3, 3), stride=(1, 1), padding=(1, 1), bias=False)\n",
       "          (bn1): BatchNorm2d(128, eps=1e-05, momentum=0.1, affine=True, track_running_stats=True)\n",
       "          (relu): ReLU(inplace=True)\n",
       "          (conv2): Conv2d(128, 128, kernel_size=(3, 3), stride=(1, 1), padding=(1, 1), bias=False)\n",
       "          (bn2): BatchNorm2d(128, eps=1e-05, momentum=0.1, affine=True, track_running_stats=True)\n",
       "        )\n",
       "      )\n",
       "    )\n",
       "    (layer4): Sequential(\n",
       "      (0): BasicBlock(\n",
       "        (conv1): Conv2d(128, 256, kernel_size=(3, 3), stride=(1, 1), padding=(2, 2), dilation=(2, 2), bias=False)\n",
       "        (bn1): BatchNorm2d(256, eps=1e-05, momentum=0.1, affine=True, track_running_stats=True)\n",
       "        (conv2): Conv2d(256, 256, kernel_size=(3, 3), stride=(1, 1), padding=(2, 2), dilation=(2, 2), bias=False)\n",
       "        (bn2): BatchNorm2d(256, eps=1e-05, momentum=0.1, affine=True, track_running_stats=True)\n",
       "        (downsample): Sequential(\n",
       "          (0): Conv2d(128, 256, kernel_size=(1, 1), stride=(1, 1), bias=False)\n",
       "          (1): BatchNorm2d(256, eps=1e-05, momentum=0.1, affine=True, track_running_stats=True)\n",
       "        )\n",
       "      )\n",
       "      (1): BasicBlock(\n",
       "        (conv1): Conv2d(256, 256, kernel_size=(3, 3), stride=(1, 1), padding=(2, 2), dilation=(2, 2), bias=False)\n",
       "        (bn1): BatchNorm2d(256, eps=1e-05, momentum=0.1, affine=True, track_running_stats=True)\n",
       "        (conv2): Conv2d(256, 256, kernel_size=(3, 3), stride=(1, 1), padding=(2, 2), dilation=(2, 2), bias=False)\n",
       "        (bn2): BatchNorm2d(256, eps=1e-05, momentum=0.1, affine=True, track_running_stats=True)\n",
       "        (downsample): Sequential()\n",
       "      )\n",
       "    )\n",
       "    (layer5): Sequential(\n",
       "      (0): BasicBlock(\n",
       "        (conv1): Conv2d(256, 512, kernel_size=(3, 3), stride=(1, 1), padding=(4, 4), dilation=(4, 4), bias=False)\n",
       "        (bn1): BatchNorm2d(512, eps=1e-05, momentum=0.1, affine=True, track_running_stats=True)\n",
       "        (conv2): Conv2d(512, 512, kernel_size=(3, 3), stride=(1, 1), padding=(4, 4), dilation=(4, 4), bias=False)\n",
       "        (bn2): BatchNorm2d(512, eps=1e-05, momentum=0.1, affine=True, track_running_stats=True)\n",
       "        (downsample): Sequential(\n",
       "          (0): Conv2d(256, 512, kernel_size=(1, 1), stride=(1, 1), bias=False)\n",
       "          (1): BatchNorm2d(512, eps=1e-05, momentum=0.1, affine=True, track_running_stats=True)\n",
       "        )\n",
       "      )\n",
       "      (1): BasicBlock(\n",
       "        (conv1): Conv2d(512, 512, kernel_size=(3, 3), stride=(1, 1), padding=(4, 4), dilation=(4, 4), bias=False)\n",
       "        (bn1): BatchNorm2d(512, eps=1e-05, momentum=0.1, affine=True, track_running_stats=True)\n",
       "        (conv2): Conv2d(512, 512, kernel_size=(3, 3), stride=(1, 1), padding=(4, 4), dilation=(4, 4), bias=False)\n",
       "        (bn2): BatchNorm2d(512, eps=1e-05, momentum=0.1, affine=True, track_running_stats=True)\n",
       "        (downsample): Sequential()\n",
       "      )\n",
       "    )\n",
       "  )\n",
       "  (aspp): ASPP(\n",
       "    (conv_1x1_1): Conv2d(512, 256, kernel_size=(1, 1), stride=(1, 1))\n",
       "    (bn_conv_1x1_1): BatchNorm2d(256, eps=1e-05, momentum=0.1, affine=True, track_running_stats=True)\n",
       "    (conv_3x3_1): Conv2d(512, 256, kernel_size=(3, 3), stride=(1, 1), padding=(6, 6), dilation=(6, 6))\n",
       "    (bn_conv_3x3_1): BatchNorm2d(256, eps=1e-05, momentum=0.1, affine=True, track_running_stats=True)\n",
       "    (conv_3x3_2): Conv2d(512, 256, kernel_size=(3, 3), stride=(1, 1), padding=(12, 12), dilation=(12, 12))\n",
       "    (bn_conv_3x3_2): BatchNorm2d(256, eps=1e-05, momentum=0.1, affine=True, track_running_stats=True)\n",
       "    (conv_3x3_3): Conv2d(512, 256, kernel_size=(3, 3), stride=(1, 1), padding=(18, 18), dilation=(18, 18))\n",
       "    (bn_conv_3x3_3): BatchNorm2d(256, eps=1e-05, momentum=0.1, affine=True, track_running_stats=True)\n",
       "    (avg_pool): AdaptiveAvgPool2d(output_size=1)\n",
       "    (conv_1x1_2): Conv2d(512, 256, kernel_size=(1, 1), stride=(1, 1))\n",
       "    (bn_conv_1x1_2): BatchNorm2d(256, eps=1e-05, momentum=0.1, affine=True, track_running_stats=True)\n",
       "    (conv_1x1_3): Conv2d(1280, 256, kernel_size=(1, 1), stride=(1, 1))\n",
       "    (bn_conv_1x1_3): BatchNorm2d(256, eps=1e-05, momentum=0.1, affine=True, track_running_stats=True)\n",
       "    (conv_1x1_4): Conv2d(256, 20, kernel_size=(1, 1), stride=(1, 1))\n",
       "  )\n",
       ")"
      ]
     },
     "execution_count": 50,
     "metadata": {},
     "output_type": "execute_result"
    }
   ],
   "source": [
    "network.eval()"
   ]
  },
  {
   "cell_type": "code",
   "execution_count": 51,
   "metadata": {
    "colab": {
     "base_uri": "https://localhost:8080/",
     "height": 371
    },
    "colab_type": "code",
    "id": "MftPJ76RpC4H",
    "outputId": "552b38ab-5ce1-4f0e-978d-ed97f637f1dd"
   },
   "outputs": [
    {
     "name": "stdout",
     "output_type": "stream",
     "text": [
      "p1r00056\n",
      "p1r00058\n",
      "p1r00050\n",
      "p1r00029\n",
      "street2\n",
      "p1r00046\n",
      "p1r00018\n",
      "p1r00065\n",
      "p1r00060\n",
      "p1r00017\n",
      "p1r00068\n",
      "p1r00052\n",
      "street1\n",
      "p1r00034\n",
      "p1r00028\n",
      "p1r00074\n",
      "p1r00039\n",
      "p1r00067\n",
      "p1r00009\n",
      "p1r00066\n",
      "p1r00040\n",
      "p1r00016\n",
      "p1r00006\n",
      "p1r00049\n",
      "p1r00015\n",
      "p1r00011\n",
      "p1r00027\n",
      "p1r00019\n",
      "p1r00073\n",
      "p1r00055\n",
      "p1r00038\n",
      "p1r00004\n",
      "p1r00021\n",
      "p1r00033\n",
      "p1r00022\n",
      "p1r00037\n",
      "p1r00003\n",
      "p1r00005\n",
      "p1r00025\n",
      "p1r00044\n",
      "p1r00010\n",
      "p1r00062\n",
      "p1r00043\n",
      "p1r00048\n",
      "p1r00057\n",
      "p1r00013\n",
      "p1r00054\n",
      "p1r00026\n",
      "p1r00031\n",
      "p1r00035\n",
      "p1r00008\n",
      "p1r00020\n",
      "p1r00042\n",
      "p1r00032\n",
      "p1r00041\n",
      "p1r00076\n",
      "p1r00059\n",
      "p1r00014\n",
      "p1r00036\n",
      "p1r00053\n",
      "p1r00023\n",
      "p1r00030\n",
      "p1r00064\n",
      "p1r00047\n",
      "p1r00069\n",
      "p1r00024\n",
      "p1r00071\n",
      "p1r00072\n",
      "p1r00063\n",
      "p1r00075\n",
      "p1r00051\n",
      "p1r00007\n",
      "p1r00012\n",
      "p1r00070\n",
      "p1r00002\n",
      "p1r00061\n",
      "p1r00045\n",
      "p1r00001\n"
     ]
    }
   ],
   "source": [
    "count = 0\n",
    "\n",
    "#produce labeled image\n",
    "for step, (imgs, img_ids) in enumerate(val_loader):\n",
    "    #print(img_ids)\n",
    "    with torch.no_grad(): # (corresponds to setting volatile=True in all variables, this is done during inference to reduce memory consumption)\n",
    "        imgs = Variable(imgs).cuda() # (shape: (batch_size, 3, img_h, img_w))\n",
    "        outputs = network(imgs) # (shape: (batch_size, num_classes, img_h, img_w))\n",
    "  \n",
    "        ########################################################################\n",
    "        # save data for visualization:\n",
    "        ########################################################################\n",
    "        \n",
    "        outputs = outputs.data.cpu().numpy() # (shape: (batch_size, num_classes, img_h, img_w))\n",
    "        pred_label_imgs = np.argmax(outputs, axis=1) # (shape: (batch_size, img_h, img_w))\n",
    "        pred_label_imgs = pred_label_imgs.astype(np.uint8)\n",
    "\n",
    "        for i in range(pred_label_imgs.shape[0]):\n",
    "            if i == 0:\n",
    "                pred_label_img = pred_label_imgs[i] # (shape: (img_h, img_w))\n",
    "                img_id = img_ids[i]\n",
    "                img = imgs[i] # (shape: (3, img_h, img_w))\n",
    "\n",
    "                img = img.data.cpu().numpy()\n",
    "                img = np.transpose(img, (1, 2, 0)) # (shape: (img_h, img_w, 3))\n",
    "                img = img*np.array([0.229, 0.224, 0.225])\n",
    "                img = img + np.array([0.485, 0.456, 0.406])\n",
    "                img = img*255.0\n",
    "                img = img.astype(np.uint8)\n",
    "\n",
    "                pred_label_img_color = label_img_to_color(pred_label_img)\n",
    "                overlayed_img = 0.35*img + 0.65*pred_label_img_color\n",
    "                overlayed_img = overlayed_img.astype(np.uint8)\n",
    "                #producing original predicted images\n",
    "                cv2.imwrite(val_dataset.output_dir + \"/\" + img_id + \"_pred_label.png\", pred_label_img )\n",
    "                \n",
    "                # produce debugging info for the first 10 images\n",
    "                if count < 100:\n",
    "                    #producing colored predicted images\n",
    "                    cv2.imwrite(val_dataset.debug_dir + \"/\" + img_id + \"_pred_label_colorimg.png\", pred_label_img_color )\n",
    "                    #producing overlayed images\n",
    "                    cv2.imwrite(val_dataset.debug_dir + \"/\" + img_id + \"_overlayed.png\", overlayed_img)\n",
    "                \n",
    "\n",
    "        ########################################################################\n",
    "        # quick counting\n",
    "        ########################################################################\n",
    "        count += 1\n",
    "                "
   ]
  },
  {
   "cell_type": "code",
   "execution_count": 52,
   "metadata": {
    "colab": {},
    "colab_type": "code",
    "id": "HC9-m9Bz3AJN"
   },
   "outputs": [],
   "source": [
    "# generate the summary csv file from the labeled files\n",
    "import glob\n",
    "output_files = glob.glob(val_dataset.output_dir + \"/*pred_label.png\")"
   ]
  },
  {
   "cell_type": "code",
   "execution_count": 53,
   "metadata": {},
   "outputs": [
    {
     "name": "stdout",
     "output_type": "stream",
     "text": [
      "/home/kywch/deeplabv3/output/\n",
      "['/home/kywch/deeplabv3/output/p1r00030_pred_label.png', '/home/kywch/deeplabv3/output/p1r00047_pred_label.png', '/home/kywch/deeplabv3/output/p1r00019_pred_label.png', '/home/kywch/deeplabv3/output/p1r00016_pred_label.png', '/home/kywch/deeplabv3/output/p1r00073_pred_label.png', '/home/kywch/deeplabv3/output/p1r00048_pred_label.png', '/home/kywch/deeplabv3/output/p1r00026_pred_label.png', '/home/kywch/deeplabv3/output/p1r00036_pred_label.png', '/home/kywch/deeplabv3/output/p1r00025_pred_label.png', '/home/kywch/deeplabv3/output/p1r00021_pred_label.png', '/home/kywch/deeplabv3/output/p1r00008_pred_label.png', '/home/kywch/deeplabv3/output/p1r00049_pred_label.png', '/home/kywch/deeplabv3/output/p1r00022_pred_label.png', '/home/kywch/deeplabv3/output/p1r00005_pred_label.png', '/home/kywch/deeplabv3/output/p1r00064_pred_label.png', '/home/kywch/deeplabv3/output/p1r00010_pred_label.png', '/home/kywch/deeplabv3/output/p1r00044_pred_label.png', '/home/kywch/deeplabv3/output/p1r00012_pred_label.png', '/home/kywch/deeplabv3/output/p1r00027_pred_label.png', '/home/kywch/deeplabv3/output/p1r00065_pred_label.png', '/home/kywch/deeplabv3/output/p1r00009_pred_label.png', '/home/kywch/deeplabv3/output/p1r00069_pred_label.png', '/home/kywch/deeplabv3/output/p1r00070_pred_label.png', '/home/kywch/deeplabv3/output/p1r00052_pred_label.png', '/home/kywch/deeplabv3/output/p1r00072_pred_label.png', '/home/kywch/deeplabv3/output/p1r00066_pred_label.png', '/home/kywch/deeplabv3/output/p1r00028_pred_label.png', '/home/kywch/deeplabv3/output/p1r00053_pred_label.png', '/home/kywch/deeplabv3/output/p1r00055_pred_label.png', '/home/kywch/deeplabv3/output/p1r00056_pred_label.png', '/home/kywch/deeplabv3/output/p1r00059_pred_label.png', '/home/kywch/deeplabv3/output/p1r00041_pred_label.png', '/home/kywch/deeplabv3/output/p1r00006_pred_label.png', '/home/kywch/deeplabv3/output/p1r00015_pred_label.png', '/home/kywch/deeplabv3/output/p1r00003_pred_label.png', '/home/kywch/deeplabv3/output/p1r00014_pred_label.png', '/home/kywch/deeplabv3/output/p1r00037_pred_label.png', '/home/kywch/deeplabv3/output/p1r00068_pred_label.png', '/home/kywch/deeplabv3/output/p1r00023_pred_label.png', '/home/kywch/deeplabv3/output/p1r00058_pred_label.png', '/home/kywch/deeplabv3/output/p1r00007_pred_label.png', '/home/kywch/deeplabv3/output/p1r00046_pred_label.png', '/home/kywch/deeplabv3/output/p1r00013_pred_label.png', '/home/kywch/deeplabv3/output/p1r00076_pred_label.png', '/home/kywch/deeplabv3/output/p1r00039_pred_label.png', '/home/kywch/deeplabv3/output/p1r00018_pred_label.png', '/home/kywch/deeplabv3/output/p1r00035_pred_label.png', '/home/kywch/deeplabv3/output/p1r00020_pred_label.png', '/home/kywch/deeplabv3/output/p1r00057_pred_label.png', '/home/kywch/deeplabv3/output/p1r00061_pred_label.png', '/home/kywch/deeplabv3/output/p1r00075_pred_label.png', '/home/kywch/deeplabv3/output/street2_pred_label.png', '/home/kywch/deeplabv3/output/p1r00038_pred_label.png', '/home/kywch/deeplabv3/output/p1r00071_pred_label.png', '/home/kywch/deeplabv3/output/p1r00043_pred_label.png', '/home/kywch/deeplabv3/output/p1r00029_pred_label.png', '/home/kywch/deeplabv3/output/p1r00001_pred_label.png', '/home/kywch/deeplabv3/output/p1r00040_pred_label.png', '/home/kywch/deeplabv3/output/p1r00002_pred_label.png', '/home/kywch/deeplabv3/output/p1r00032_pred_label.png', '/home/kywch/deeplabv3/output/p1r00054_pred_label.png', '/home/kywch/deeplabv3/output/p1r00050_pred_label.png', '/home/kywch/deeplabv3/output/p1r00024_pred_label.png', '/home/kywch/deeplabv3/output/p1r00011_pred_label.png', '/home/kywch/deeplabv3/output/p1r00034_pred_label.png', '/home/kywch/deeplabv3/output/p1r00004_pred_label.png', '/home/kywch/deeplabv3/output/p1r00033_pred_label.png', '/home/kywch/deeplabv3/output/p1r00017_pred_label.png', '/home/kywch/deeplabv3/output/p1r00067_pred_label.png', '/home/kywch/deeplabv3/output/p1r00060_pred_label.png', '/home/kywch/deeplabv3/output/p1r00042_pred_label.png', '/home/kywch/deeplabv3/output/p1r00074_pred_label.png', '/home/kywch/deeplabv3/output/street1_pred_label.png', '/home/kywch/deeplabv3/output/p1r00031_pred_label.png', '/home/kywch/deeplabv3/output/p1r00045_pred_label.png', '/home/kywch/deeplabv3/output/p1r00063_pred_label.png', '/home/kywch/deeplabv3/output/p1r00051_pred_label.png', '/home/kywch/deeplabv3/output/p1r00062_pred_label.png']\n"
     ]
    }
   ],
   "source": [
    "print(val_dataset.output_dir)\n",
    "print(output_files)"
   ]
  },
  {
   "cell_type": "code",
   "execution_count": 54,
   "metadata": {},
   "outputs": [],
   "source": [
    "# deeplabv3 - cityscape labels\n",
    "\n",
    "class_names = ['pcnt_road', 'pcnt_sidewalk', 'pcnt_building', 'pcnt_wall', 'pcnt_fence',\n",
    "    'pcnt_pole', 'pcnt_traffic_light', 'pcnt_traffic_sign', 'pcnt_vegetation', 'pcnt_terrain',\n",
    "    'pcnt_sky', 'pcnt_person', 'pcnt_rider', 'pcnt_car', 'pcnt_truck',\n",
    "    'pcnt_bus', 'pcnt_train', 'pcnt_motorcycle', 'pcnt_bicycle', 'pcnt_unlabeled']\n",
    "num_class = len(class_names)\n"
   ]
  },
  {
   "cell_type": "code",
   "execution_count": 55,
   "metadata": {},
   "outputs": [
    {
     "name": "stdout",
     "output_type": "stream",
     "text": [
      "p1r00030\n",
      "[0.23655598958333332, 0.002802734375, 0.031119791666666667, 0.0, 0.044638671875, 0.009479166666666667, 0.000322265625, 0.0080859375, 0.4121875, 0.09728841145833333, 0.06376627604166667, 0.0, 0.0, 0.09059895833333333, 0.0, 0.0, 0.0, 0.0, 0.0, 0.003154296875]\n"
     ]
    }
   ],
   "source": [
    "# quick check\n",
    "\n",
    "file = output_files[0]\n",
    "\n",
    "print(os.path.basename(file).split('_pred_label.png')[0])\n",
    "\n",
    "pred_label_img = cv2.imread(file, -1)\n",
    "# count how many pixels in pred_label_img which are of object class trainId:\n",
    "pixel_ratio = np.zeros(num_class)\n",
    "for cate_id in range(num_class):\n",
    "    pixel_ratio[cate_id] = np.sum(np.equal(pred_label_img, cate_id))/pred_label_img.size\n",
    "\n",
    "print(pixel_ratio.tolist())"
   ]
  },
  {
   "cell_type": "code",
   "execution_count": 20,
   "metadata": {
    "colab": {
     "base_uri": "https://localhost:8080/",
     "height": 252
    },
    "colab_type": "code",
    "id": "WUoEhCbkDaeV",
    "outputId": "0658f45b-dc3d-4f7c-da82-0672efcba74f"
   },
   "outputs": [],
   "source": [
    "#save category ratios to csv file\n",
    "with open(val_dataset.output_dir + '/00_object_ratios.csv', 'w') as output:\n",
    "    writer = csv.writer(output)\n",
    "    writer.writerow(['image_name'] + class_names)\n",
    "    \n",
    "    for file in output_files:\n",
    "        img_name = os.path.basename(file).split('_pred_label.png')[0]\n",
    "        pred_label_img = cv2.imread(file, -1)\n",
    "        \n",
    "        # count how many pixels in pred_label_img which are of object class trainId:\n",
    "        pixel_ratio = np.zeros(num_class)\n",
    "        for cate_id in range(num_class):\n",
    "            pixel_ratio[cate_id] = np.sum(np.equal(pred_label_img, cate_id))/pred_label_img.size\n",
    "        \n",
    "        # write to the csv file\n",
    "        writer.writerow([img_name] + pixel_ratio.tolist())\n"
   ]
  },
  {
   "cell_type": "code",
   "execution_count": null,
   "metadata": {},
   "outputs": [],
   "source": []
  }
 ],
 "metadata": {
  "accelerator": "GPU",
  "colab": {
   "name": "evaluation.ipynb",
   "provenance": []
  },
  "kernelspec": {
   "display_name": "Python 3",
   "language": "python",
   "name": "python3"
  },
  "language_info": {
   "codemirror_mode": {
    "name": "ipython",
    "version": 3
   },
   "file_extension": ".py",
   "mimetype": "text/x-python",
   "name": "python",
   "nbconvert_exporter": "python",
   "pygments_lexer": "ipython3",
   "version": "3.7.3"
  }
 },
 "nbformat": 4,
 "nbformat_minor": 1
}
